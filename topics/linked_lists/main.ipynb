{
 "metadata": {
  "language_info": {
   "codemirror_mode": {
    "name": "ipython",
    "version": 3
   },
   "file_extension": ".py",
   "mimetype": "text/x-python",
   "name": "python",
   "nbconvert_exporter": "python",
   "pygments_lexer": "ipython3",
   "version": "3.8.5"
  },
  "orig_nbformat": 2,
  "kernelspec": {
   "name": "python38532bit7a3d66e40b2648eeb10813da4fee525d",
   "display_name": "Python 3.8.5 32-bit"
  },
  "metadata": {
   "interpreter": {
    "hash": "b3ddf538fb3a42f9fbfe7f11c6dede3ea7130c83f3ba063cba8ec84a42ce8ea2"
   }
  }
 },
 "nbformat": 4,
 "nbformat_minor": 2,
 "cells": [
  {
   "source": [
    "# Linked List"
   ],
   "cell_type": "markdown",
   "metadata": {}
  },
  {
   "source": [
    "### Node and Linked List Class (Doubly Linked List)"
   ],
   "cell_type": "markdown",
   "metadata": {}
  },
  {
   "cell_type": "code",
   "execution_count": 1,
   "metadata": {},
   "outputs": [],
   "source": [
    "from typing import TypeVar, List\n",
    "T = TypeVar('T')\n",
    "\n",
    "class Node(object):\n",
    "    def __init__(self, value: T, left = None, right = None):\n",
    "        self.value = value\n",
    "        if isinstance(left, Node) and isinstance(left, None):\n",
    "            self.left = left\n",
    "            self.right = right\n",
    "        else:\n",
    "            self.left = None\n",
    "            self.right = None\n",
    "    \n",
    "    def __repr__(self):\n",
    "        result =  f'{self.value} <-> '\n",
    "        if self.right == None:\n",
    "            result += 'None'\n",
    "        else:\n",
    "            result += str(self.right)\n",
    "        return result\n",
    "\n",
    "class LinkedList(object):\n",
    "    def __init__(self, items: List[T] = None):\n",
    "        if items == None:\n",
    "            self.head = None\n",
    "        else:\n",
    "            self.head = None\n",
    "            self.make_ll(items)\n",
    "\n",
    "    def make_ll(self, items: List[T]) -> None:\n",
    "        for i in range(len(items)):\n",
    "            self.add_node(items[i])\n",
    "\n",
    "    def add_node(self, item: T):\n",
    "        new_node: Node = Node(item)\n",
    "        if self.head == None:\n",
    "            self.head = new_node\n",
    "            return\n",
    "        cur: Node = self.head\n",
    "        while cur.right != None:\n",
    "            cur = cur.right\n",
    "        \n",
    "        cur.right = new_node\n",
    "        new_node.prev = cur\n",
    "    \n",
    "    def __repr__(self):\n",
    "        if self.head == None:\n",
    "            return 'None'\n",
    "        return str(self.head)"
   ]
  },
  {
   "source": [
    "### Node and Linked List (Singly Linked List)"
   ],
   "cell_type": "markdown",
   "metadata": {}
  },
  {
   "cell_type": "code",
   "execution_count": 2,
   "metadata": {},
   "outputs": [],
   "source": [
    "class SinglyNode(object):\n",
    "    def __init__(self, value: T, right = None):\n",
    "        self.value = value\n",
    "        if isinstance(right, SinglyNode):\n",
    "            self.right = right\n",
    "        else:\n",
    "            self.right = None\n",
    "\n",
    "    def __repr__(self):\n",
    "        result = f'{self.value} -> '\n",
    "        if self.right is None:\n",
    "            result += 'None'\n",
    "        else:\n",
    "            result += str(self.right)\n",
    "        return result\n",
    "\n",
    "class SinglyLinkedList(object):\n",
    "    def __init__(self, items: List[T] = None):\n",
    "        self.head = None\n",
    "        if isinstance(items, list):\n",
    "            self.make_ll(items)\n",
    "    \n",
    "    def add_node(self, value):\n",
    "        new_node = SinglyNode(value)\n",
    "        if self.head == None:\n",
    "            self.head = new_node\n",
    "            return\n",
    "        cur = self.head\n",
    "        while cur.right != None:\n",
    "            cur = cur.right\n",
    "        cur.right = new_node\n",
    "    \n",
    "    def find_node(self, value):\n",
    "        current = self.head\n",
    "        while current and current.value != value:\n",
    "            current = current.right\n",
    "        return current\n",
    "    \n",
    "    def make_ll(self, items: List[T]):\n",
    "        for i in range(len(items)):\n",
    "            self.add_node(items[i])\n",
    "    \n",
    "    def __repr__(self):\n",
    "        return str(self.head)"
   ]
  },
  {
   "source": [
    "#### Remove Dups. Write code to remove duplicates from an unsorted linked list. How would you solve this problem if a temporary buffer is not allowed?"
   ],
   "cell_type": "markdown",
   "metadata": {}
  },
  {
   "cell_type": "code",
   "execution_count": 3,
   "metadata": {},
   "outputs": [
    {
     "output_type": "stream",
     "name": "stdout",
     "text": [
      "1 -> 2 -> 3 -> 4 -> 5 -> 6 -> 7 -> None\n"
     ]
    }
   ],
   "source": [
    "def remove_dups(list: SinglyLinkedList):\n",
    "    hash_map = set()\n",
    "    previous: SinglyNode = None\n",
    "    current = list.head\n",
    "    while current is not None:\n",
    "        if current.value in hash_map:\n",
    "            previous.right = current.right\n",
    "        else:\n",
    "            hash_map.add(current.value)\n",
    "            previous = current\n",
    "        current = current.right\n",
    "\n",
    "# Testing\n",
    "ll = SinglyLinkedList([1, 2, 3, 3, 4, 5, 6, 4, 7])\n",
    "remove_dups(ll)\n",
    "print(ll)"
   ]
  },
  {
   "source": [
    "#### Return Kth to Last. Implement an algorithm to find the kth to last element of a singly linked list."
   ],
   "cell_type": "markdown",
   "metadata": {}
  },
  {
   "source": [
    "#### Recursive"
   ],
   "cell_type": "markdown",
   "metadata": {}
  },
  {
   "cell_type": "code",
   "execution_count": 4,
   "metadata": {},
   "outputs": [
    {
     "output_type": "execute_result",
     "data": {
      "text/plain": [
       "5"
      ]
     },
     "metadata": {},
     "execution_count": 4
    }
   ],
   "source": [
    "def kth_to_last_recur(head: SinglyNode, k: int) -> SinglyNode:\n",
    "    if head == None:\n",
    "        return None\n",
    "    node = kth_to_last_recur(head.right, k)\n",
    "    kth_to_last_recur.cur_index += 1\n",
    "    if kth_to_last_recur.cur_index == k:\n",
    "        return head\n",
    "    return node\n",
    "\n",
    "# Testing\n",
    "ll = SinglyLinkedList([1, 2, 3, 4, 5, 6])\n",
    "kth_to_last_recur.cur_index = 0\n",
    "kth_to_last_recur(ll.head, 2).value"
   ]
  },
  {
   "source": [
    "#### Iterative"
   ],
   "cell_type": "markdown",
   "metadata": {}
  },
  {
   "cell_type": "code",
   "execution_count": 5,
   "metadata": {},
   "outputs": [
    {
     "output_type": "execute_result",
     "data": {
      "text/plain": [
       "4"
      ]
     },
     "metadata": {},
     "execution_count": 5
    }
   ],
   "source": [
    "def kth_to_last(ll: SinglyLinkedList, k: int) -> SinglyNode:\n",
    "    p1: SinglyNode = ll.head\n",
    "    p2: SinglyNode = ll.head\n",
    "\n",
    "    for i in range(k):\n",
    "        if p1.right == None:\n",
    "            raise Exception('out of bounds')\n",
    "        p1 = p1.right\n",
    "    \n",
    "    while p1 != None:\n",
    "        p1 = p1.right\n",
    "        p2 = p2.right\n",
    "    \n",
    "    return p2\n",
    "\n",
    "# Testing\n",
    "ll = SinglyLinkedList([2, 1, 3, 4, 9])\n",
    "kth_to_last(ll, 2).value"
   ]
  },
  {
   "source": [
    "#### Delete Middle Node. Implement an algorithm to delete a node in the middle (i.e., any node but the first and last node, not necessarily the exact middle) of a singly linked list, given only access to that node."
   ],
   "cell_type": "markdown",
   "metadata": {}
  },
  {
   "cell_type": "code",
   "execution_count": 6,
   "metadata": {},
   "outputs": [
    {
     "output_type": "stream",
     "name": "stdout",
     "text": [
      "1 -> 2 -> 3 -> 4 -> 6 -> 7 -> None\n"
     ]
    }
   ],
   "source": [
    "def delete_middle_node(ll: SinglyLinkedList, node: SinglyNode):\n",
    "    if node == None and node.right == None:\n",
    "        raise Exception('cannot delete the node')\n",
    "    node.value = node.right.value\n",
    "    node.right = node.right.right\n",
    "\n",
    "# Testing\n",
    "ll = SinglyLinkedList([1, 2, 3, 4, 5, 6, 7])\n",
    "delete_node = ll.find_node(5)\n",
    "delete_middle_node(ll, delete_node)\n",
    "print(ll)"
   ]
  },
  {
   "source": [
    "#### Partition. Write code to partition a linked list around a value x, such that all nodes less than x come before all nodes greater than or equal to x. If x is contained within the list, the values of x only need to be after the elements less than x. The partition element x can appear anywhere in the 'right parition'; it does not need to appear between the left and right partitions."
   ],
   "cell_type": "markdown",
   "metadata": {}
  },
  {
   "cell_type": "code",
   "execution_count": 7,
   "metadata": {
    "tags": []
   },
   "outputs": [
    {
     "output_type": "stream",
     "name": "stdout",
     "text": [
      "4 -> 2 -> 1 -> 10 -> 7 -> 6 -> 5 -> 11 -> None\n"
     ]
    }
   ],
   "source": [
    "def partition(ll: SinglyLinkedList, value: int):\n",
    "    head = ll.head\n",
    "    tail = ll.head\n",
    "    current = ll.head\n",
    "\n",
    "    while current != None:\n",
    "        next_node = current.right\n",
    "        if current.value < value:\n",
    "            current.right = head\n",
    "            head = current\n",
    "        else:\n",
    "            tail.right = current\n",
    "            tail = current\n",
    "        current = next_node\n",
    "    ll.head = head\n",
    "    tail.right = None\n",
    "\n",
    "# Testing\n",
    "ll = SinglyLinkedList([1, 10, 7, 2, 6, 5, 4, 11])\n",
    "partition(ll, 5)\n",
    "print(ll)"
   ]
  },
  {
   "source": [
    "#### Sum Lists. You have two numbers represented by a linked list, where each node contains a single digit. The digits are stored in reverse order, such that the 1's digit is at the head of the list. Write a function that adds the two numbers and returns the sum as a linked list. FOLLOW UP. Suppose the digits are stored in forward order. Repeat the above problem."
   ],
   "cell_type": "markdown",
   "metadata": {}
  },
  {
   "source": [
    "#### Reverse Order"
   ],
   "cell_type": "markdown",
   "metadata": {}
  },
  {
   "cell_type": "code",
   "execution_count": 8,
   "metadata": {},
   "outputs": [
    {
     "output_type": "stream",
     "name": "stdout",
     "text": [
      "2 -> 1 -> 9 -> None\n"
     ]
    }
   ],
   "source": [
    "def sum_lists_reverse(l1: SinglyNode, l2: SinglyNode, carry = 0):\n",
    "    if not l1 and not l2 and carry == 0:\n",
    "        return None\n",
    "\n",
    "    value = carry\n",
    "\n",
    "    if l1 != None:\n",
    "        value += l1.value\n",
    "\n",
    "    if l2 != None:\n",
    "        value += l2.value\n",
    "    \n",
    "    new_node = SinglyNode(value % 10)\n",
    "    carry = value // 10\n",
    "\n",
    "    l1_right = l1.right if l1 != None else None\n",
    "    l2_right = l2.right if l2 != None else None\n",
    "    more = sum_lists_reverse(l1_right, l2_right, carry)\n",
    "    new_node.right = more\n",
    "    return new_node\n",
    "\n",
    "# Testing\n",
    "l1 = SinglyLinkedList([7, 1, 6])\n",
    "l2 = SinglyLinkedList([5, 9, 2])\n",
    "ll = SinglyLinkedList()\n",
    "ll.head = sum_lists_reverse(l1.head, l2.head)\n",
    "print(ll)"
   ]
  },
  {
   "source": [
    "#### Forward Order"
   ],
   "cell_type": "markdown",
   "metadata": {}
  },
  {
   "cell_type": "code",
   "execution_count": 9,
   "metadata": {},
   "outputs": [
    {
     "output_type": "stream",
     "name": "stdout",
     "text": [
      "4 -> 2 -> 6 -> 4 -> 4 -> None\n"
     ]
    }
   ],
   "source": [
    "class PartialSum(object):\n",
    "    def __init__(self, node: SinglyNode = None, carry: int = 0):\n",
    "        self.node = node\n",
    "        self.carry = carry\n",
    "\n",
    "def length_ll(head: SinglyNode):\n",
    "    count = 0\n",
    "    while head != None:\n",
    "        count += 1\n",
    "        head = head.right\n",
    "    return count\n",
    "\n",
    "def pad_with_zeroes(head: SinglyNode, value: int):\n",
    "    for i in range(value):\n",
    "        new_node = SinglyNode(0)\n",
    "        new_node.right = head\n",
    "        head = new_node\n",
    "    return head\n",
    "\n",
    "def insert_before(node: SinglyNode, value: int):\n",
    "    new_node = SinglyNode(value)\n",
    "    if node != None:\n",
    "        new_node.right = node\n",
    "    return new_node\n",
    "\n",
    "def sum_lists_helper(l1: SinglyNode, l2: SinglyNode) -> PartialSum:\n",
    "    if l1 == None and l2 == None:\n",
    "        return PartialSum()\n",
    "    \n",
    "    partial_sum = sum_lists_helper(l1.right, l2.right)\n",
    "\n",
    "    value = partial_sum.carry + l1.value + l2.value\n",
    "\n",
    "    full_result = insert_before(partial_sum.node, value % 10)\n",
    "    partial_sum.node = full_result\n",
    "    partial_sum.carry = value // 10\n",
    "    return partial_sum\n",
    "\n",
    "def sum_lists(l1: SinglyNode, l2: SinglyNode):\n",
    "    ll_len1 = length_ll(l1)\n",
    "    ll_len2 = length_ll(l2)\n",
    "\n",
    "    if ll_len1 < ll_len2:\n",
    "        l1 = pad_with_zeroes(l1, abs(ll_len1 - ll_len2))\n",
    "    else:\n",
    "        l2 = pad_with_zeroes(l2, abs(ll_len1 - ll_len2))\n",
    "    \n",
    "    partial_sum: PartialSum = sum_lists_helper(l1, l2)\n",
    "    if partial_sum.carry == 0:\n",
    "        return partial_sum.node\n",
    "    else:\n",
    "        result = insert_before(partial_sum.node, partial_sum.carry)\n",
    "        return result\n",
    "    \n",
    "# Testing\n",
    "ll1 = SinglyLinkedList([2, 9, 5])\n",
    "ll2 = SinglyLinkedList([4, 2, 3, 4, 9])\n",
    "result = SinglyLinkedList()\n",
    "result.head = sum_lists(ll1.head, ll2.head)\n",
    "print(result)"
   ]
  },
  {
   "source": [
    "#### Palindrome. Implement a function to check if a linked list is a palindrome.\n"
   ],
   "cell_type": "markdown",
   "metadata": {}
  },
  {
   "cell_type": "code",
   "execution_count": 10,
   "metadata": {},
   "outputs": [
    {
     "output_type": "execute_result",
     "data": {
      "text/plain": [
       "True"
      ]
     },
     "metadata": {},
     "execution_count": 10
    }
   ],
   "source": [
    "from collections import deque\n",
    "\n",
    "def palindrome(ll: SinglyLinkedList):\n",
    "    slow: SinglyNode = ll.head\n",
    "    fast: SinglyNode = ll.head\n",
    "\n",
    "    stack = deque()\n",
    "    while fast != None and fast.right != None:\n",
    "        stack.append(slow.value)\n",
    "        slow = slow.right\n",
    "        fast = fast.right.right\n",
    "    \n",
    "    # check if linked list is odd\n",
    "    if fast != None:\n",
    "        slow = slow.right\n",
    "\n",
    "    while slow:\n",
    "        top = stack.pop()\n",
    "        if top != slow.value:\n",
    "            return False\n",
    "        slow = slow.right\n",
    "    return not len(stack)\n",
    "\n",
    "# Testing\n",
    "ll = SinglyLinkedList([1, 2, 3, 5, 3, 2, 1])\n",
    "palindrome(ll)"
   ]
  },
  {
   "source": [
    "#### Intersection. Given two (singly) linked lists, determine if the two lists intersect. Return the intersecting node. Note that the intersection is defined based on reference, not value. That is, if the kth node of the first linked list is the exact same node (by reference) as the jth node of the second linked list, they they are intersection."
   ],
   "cell_type": "markdown",
   "metadata": {}
  },
  {
   "cell_type": "code",
   "execution_count": 11,
   "metadata": {},
   "outputs": [
    {
     "output_type": "execute_result",
     "data": {
      "text/plain": [
       "7"
      ]
     },
     "metadata": {},
     "execution_count": 11
    }
   ],
   "source": [
    "def get_tail(ll: SinglyLinkedList):\n",
    "    current = ll.head\n",
    "    count = 0\n",
    "    while current:\n",
    "        count += 1\n",
    "        current = current.right\n",
    "    return (current, count)\n",
    "\n",
    "def offset_ll(current: SinglyNode, value: int):\n",
    "    while value != 0:\n",
    "        value -= 1\n",
    "        current = current.right\n",
    "    return current\n",
    "\n",
    "def intersection(ll1: SinglyLinkedList, ll2: SinglyLinkedList):\n",
    "    tail_ll1, len_ll1 = get_tail(ll1)\n",
    "    tail_ll2, len_ll2 = get_tail(ll2)\n",
    "\n",
    "    if tail_ll1 != tail_ll2:\n",
    "        return None\n",
    "    \n",
    "    larger = ll1.head if len_ll1 > len_ll2 else ll2.head\n",
    "    smaller = ll1.head if len_ll1 < len_ll2 else ll2.head\n",
    "\n",
    "    larger = offset_ll(larger, abs(len_ll1 - len_ll2))\n",
    "\n",
    "    while larger != smaller:\n",
    "        larger = larger.right\n",
    "        smaller = smaller.right\n",
    "    \n",
    "    if larger != None and smaller != None and smaller == larger:\n",
    "        return larger\n",
    "    return None\n",
    "\n",
    "# Testing\n",
    "ll1 = SinglyLinkedList([3, 1, 5, 9, 7, 2, 1])\n",
    "ll2 = SinglyLinkedList([4, 6])\n",
    "node_ll2 = ll2.find_node(6)\n",
    "node_ll1 = ll1.find_node(7)\n",
    "node_ll2.right = node_ll1\n",
    "intersection(ll1, ll2).value"
   ]
  },
  {
   "source": [
    "#### Loop Detection. Given a circular linked list, implement an algorithm that returns the node at the beginning of the loop.\n"
   ],
   "cell_type": "markdown",
   "metadata": {}
  },
  {
   "cell_type": "code",
   "execution_count": 12,
   "metadata": {},
   "outputs": [
    {
     "output_type": "execute_result",
     "data": {
      "text/plain": [
       "'C'"
      ]
     },
     "metadata": {},
     "execution_count": 12
    }
   ],
   "source": [
    "def loop_detection(ll: SinglyLinkedList):\n",
    "    fast = ll.head\n",
    "    slow = ll.head\n",
    "\n",
    "    while fast and fast.right:\n",
    "        slow = slow.right\n",
    "        fast = fast.right.right\n",
    "        if fast == slow:\n",
    "            break\n",
    "\n",
    "    if fast == None or fast.right == None:\n",
    "        raise Exception('no circular link is present')\n",
    "    \n",
    "    slow = ll.head\n",
    "    while slow != fast:\n",
    "        slow = slow.right\n",
    "        fast = fast.right\n",
    "    \n",
    "    return fast.value\n",
    "\n",
    "# Testing\n",
    "ll = SinglyLinkedList(['A', 'B', 'C', 'D', 'E'])\n",
    "link_end = ll.find_node('E')\n",
    "link_middle = ll.find_node('C')\n",
    "link_end.right = link_middle\n",
    "loop_detection(ll)"
   ]
  },
  {
   "cell_type": "code",
   "execution_count": 14,
   "metadata": {},
   "outputs": [],
   "source": [
    "ll = SinglyLinkedList(['A', 'B', 'C', 'D', 'E', 'F'])"
   ]
  },
  {
   "cell_type": "code",
   "execution_count": 17,
   "metadata": {},
   "outputs": [],
   "source": [
    "def function(head):\n",
    "    if head == None:\n",
    "        return\n",
    "    print(head.value, ' ')\n",
    "    if head.right != None:\n",
    "        function(head.right.right)\n",
    "    print(head.value, ' ')"
   ]
  },
  {
   "cell_type": "code",
   "execution_count": null,
   "metadata": {},
   "outputs": [],
   "source": []
  },
  {
   "source": [
    "Broken Cabins\n",
    "Problem Statement:\n",
    "\n",
    " There is an Office consisting of m cabins enumerated from 1 to m. Each cabin is 1 meter long. Sadly, some cabins are broken and need to be repaired.\n",
    "\n",
    " You have an infinitely long repair tape. You want to cut some pieces from the tape and use them to cover all of the broken cabins . To be  precise, a piece of tape of integer length t placed at some position s will cover segments s,s+1,…,s+t−1.\n",
    "\n",
    "You are allowed to cover non-broken cabins ; it is also possible that some pieces of tape will overlap.\n",
    "\n",
    " Time is money, so you want to cut at most k continuous pieces of tape to cover all the broken cabins . What is the minimum total length of these pieces?\n",
    "\n",
    "Input Format:\n",
    "\n",
    " The first line contains three integers n,m and k(1≤n≤105, n≤m≤109, 1≤k≤n) — the number of broken cabins , the length of the stick and the maximum number of pieces you can use.\n",
    "\n",
    " The second line contains n integers b1,b2,…,bn (1≤bi≤m) — the positions of the broken cabins . These integers are given in increasing order, that is, b1\n",
    "\n",
    "Output Format:\n",
    "\n",
    "Print the minimum total length of the pieces.\n",
    "\n",
    "Input:\n",
    "\n",
    "4 100 2\n",
    "\n",
    "20 30 75 80\n",
    "\n",
    "Output:\n",
    "\n",
    "17"
   ],
   "cell_type": "markdown",
   "metadata": {}
  },
  {
   "cell_type": "code",
   "execution_count": null,
   "metadata": {},
   "outputs": [],
   "source": []
  },
  {
   "cell_type": "code",
   "execution_count": 19,
   "metadata": {},
   "outputs": [
    {
     "output_type": "error",
     "ename": "KeyboardInterrupt",
     "evalue": "Interrupted by user",
     "traceback": [
      "\u001b[1;31m---------------------------------------------------------------------------\u001b[0m",
      "\u001b[1;31mKeyboardInterrupt\u001b[0m                         Traceback (most recent call last)",
      "\u001b[1;32m<ipython-input-19-07da4168485d>\u001b[0m in \u001b[0;36m<module>\u001b[1;34m\u001b[0m\n\u001b[1;32m----> 1\u001b[1;33m \u001b[0mn\u001b[0m\u001b[1;33m,\u001b[0m \u001b[0mm\u001b[0m\u001b[1;33m,\u001b[0m \u001b[0mk\u001b[0m \u001b[1;33m=\u001b[0m \u001b[0mlist\u001b[0m\u001b[1;33m(\u001b[0m\u001b[0mmap\u001b[0m\u001b[1;33m(\u001b[0m\u001b[0mint\u001b[0m\u001b[1;33m,\u001b[0m \u001b[0minput\u001b[0m\u001b[1;33m(\u001b[0m\u001b[1;33m)\u001b[0m\u001b[1;33m.\u001b[0m\u001b[0msplit\u001b[0m\u001b[1;33m(\u001b[0m\u001b[1;33m)\u001b[0m\u001b[1;33m)\u001b[0m\u001b[1;33m)\u001b[0m\u001b[1;33m\u001b[0m\u001b[1;33m\u001b[0m\u001b[0m\n\u001b[0m\u001b[0;32m      2\u001b[0m \u001b[0mb\u001b[0m \u001b[1;33m=\u001b[0m \u001b[0mlist\u001b[0m\u001b[1;33m(\u001b[0m\u001b[0mmap\u001b[0m\u001b[1;33m(\u001b[0m\u001b[0mint\u001b[0m\u001b[1;33m,\u001b[0m \u001b[0minput\u001b[0m\u001b[1;33m(\u001b[0m\u001b[1;33m)\u001b[0m\u001b[1;33m.\u001b[0m\u001b[0msplit\u001b[0m\u001b[1;33m(\u001b[0m\u001b[1;33m)\u001b[0m\u001b[1;33m)\u001b[0m\u001b[1;33m)\u001b[0m\u001b[1;33m\u001b[0m\u001b[1;33m\u001b[0m\u001b[0m\n\u001b[0;32m      3\u001b[0m \u001b[1;33m\u001b[0m\u001b[0m\n\u001b[0;32m      4\u001b[0m \u001b[0mc\u001b[0m \u001b[1;33m=\u001b[0m \u001b[1;33m[\u001b[0m\u001b[1;33m]\u001b[0m\u001b[1;33m\u001b[0m\u001b[1;33m\u001b[0m\u001b[0m\n\u001b[0;32m      5\u001b[0m \u001b[1;33m\u001b[0m\u001b[0m\n",
      "\u001b[1;32m~\\AppData\\Roaming\\Python\\Python38\\site-packages\\ipykernel\\kernelbase.py\u001b[0m in \u001b[0;36mraw_input\u001b[1;34m(self, prompt)\u001b[0m\n\u001b[0;32m    858\u001b[0m                 \u001b[1;34m\"raw_input was called, but this frontend does not support input requests.\"\u001b[0m\u001b[1;33m\u001b[0m\u001b[1;33m\u001b[0m\u001b[0m\n\u001b[0;32m    859\u001b[0m             )\n\u001b[1;32m--> 860\u001b[1;33m         return self._input_request(str(prompt),\n\u001b[0m\u001b[0;32m    861\u001b[0m             \u001b[0mself\u001b[0m\u001b[1;33m.\u001b[0m\u001b[0m_parent_ident\u001b[0m\u001b[1;33m,\u001b[0m\u001b[1;33m\u001b[0m\u001b[1;33m\u001b[0m\u001b[0m\n\u001b[0;32m    862\u001b[0m             \u001b[0mself\u001b[0m\u001b[1;33m.\u001b[0m\u001b[0m_parent_header\u001b[0m\u001b[1;33m,\u001b[0m\u001b[1;33m\u001b[0m\u001b[1;33m\u001b[0m\u001b[0m\n",
      "\u001b[1;32m~\\AppData\\Roaming\\Python\\Python38\\site-packages\\ipykernel\\kernelbase.py\u001b[0m in \u001b[0;36m_input_request\u001b[1;34m(self, prompt, ident, parent, password)\u001b[0m\n\u001b[0;32m    902\u001b[0m             \u001b[1;32mexcept\u001b[0m \u001b[0mKeyboardInterrupt\u001b[0m\u001b[1;33m:\u001b[0m\u001b[1;33m\u001b[0m\u001b[1;33m\u001b[0m\u001b[0m\n\u001b[0;32m    903\u001b[0m                 \u001b[1;31m# re-raise KeyboardInterrupt, to truncate traceback\u001b[0m\u001b[1;33m\u001b[0m\u001b[1;33m\u001b[0m\u001b[1;33m\u001b[0m\u001b[0m\n\u001b[1;32m--> 904\u001b[1;33m                 \u001b[1;32mraise\u001b[0m \u001b[0mKeyboardInterrupt\u001b[0m\u001b[1;33m(\u001b[0m\u001b[1;34m\"Interrupted by user\"\u001b[0m\u001b[1;33m)\u001b[0m \u001b[1;32mfrom\u001b[0m \u001b[1;32mNone\u001b[0m\u001b[1;33m\u001b[0m\u001b[1;33m\u001b[0m\u001b[0m\n\u001b[0m\u001b[0;32m    905\u001b[0m             \u001b[1;32mexcept\u001b[0m \u001b[0mException\u001b[0m \u001b[1;32mas\u001b[0m \u001b[0me\u001b[0m\u001b[1;33m:\u001b[0m\u001b[1;33m\u001b[0m\u001b[1;33m\u001b[0m\u001b[0m\n\u001b[0;32m    906\u001b[0m                 \u001b[0mself\u001b[0m\u001b[1;33m.\u001b[0m\u001b[0mlog\u001b[0m\u001b[1;33m.\u001b[0m\u001b[0mwarning\u001b[0m\u001b[1;33m(\u001b[0m\u001b[1;34m\"Invalid Message:\"\u001b[0m\u001b[1;33m,\u001b[0m \u001b[0mexc_info\u001b[0m\u001b[1;33m=\u001b[0m\u001b[1;32mTrue\u001b[0m\u001b[1;33m)\u001b[0m\u001b[1;33m\u001b[0m\u001b[1;33m\u001b[0m\u001b[0m\n",
      "\u001b[1;31mKeyboardInterrupt\u001b[0m: Interrupted by user"
     ]
    }
   ],
   "source": [
    "n, m, k = list(map(int, input().split()))\n",
    "b = list(map(int, input().split()))\n",
    " \n",
    "c = []\n",
    " \n",
    "for i in range(n-1):\n",
    "    c.append(b[i+1] - b[i])\n",
    " \n",
    "c.sort()\n",
    " \n",
    "ret = 0\n",
    " \n",
    "for i in range(n-k):\n",
    "    ret += c[i]\n",
    " \n",
    "ret += k\n",
    " "
   ]
  },
  {
   "cell_type": "code",
   "execution_count": null,
   "metadata": {},
   "outputs": [],
   "source": []
  }
 ]
}