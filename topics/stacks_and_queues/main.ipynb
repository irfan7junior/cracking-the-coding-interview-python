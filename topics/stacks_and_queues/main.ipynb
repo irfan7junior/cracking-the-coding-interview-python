{
 "metadata": {
  "language_info": {
   "codemirror_mode": {
    "name": "ipython",
    "version": 3
   },
   "file_extension": ".py",
   "mimetype": "text/x-python",
   "name": "python",
   "nbconvert_exporter": "python",
   "pygments_lexer": "ipython3",
   "version": "3.8.5"
  },
  "orig_nbformat": 2,
  "kernelspec": {
   "name": "python38532bit7a3d66e40b2648eeb10813da4fee525d",
   "display_name": "Python 3.8.5 32-bit"
  },
  "metadata": {
   "interpreter": {
    "hash": "b3ddf538fb3a42f9fbfe7f11c6dede3ea7130c83f3ba063cba8ec84a42ce8ea2"
   }
  }
 },
 "nbformat": 4,
 "nbformat_minor": 2,
 "cells": [
  {
   "source": [
    "# Stacks and Queues"
   ],
   "cell_type": "markdown",
   "metadata": {}
  },
  {
   "source": [
    "#### Stack Implementation"
   ],
   "cell_type": "markdown",
   "metadata": {}
  },
  {
   "cell_type": "code",
   "execution_count": 13,
   "metadata": {},
   "outputs": [],
   "source": [
    "class Stack(object):\n",
    "\n",
    "    class Node(object):\n",
    "        def __init__(self, data):\n",
    "            self.data = data\n",
    "            self.right = None\n",
    "    \n",
    "        def __repr__(self):\n",
    "            result =  f'{self.data} -> '\n",
    "            if self.right == None:\n",
    "                result += 'None'\n",
    "            else:\n",
    "                result += str(self.right)\n",
    "            return result\n",
    "\n",
    "    def __init__(self):\n",
    "        self.top = None\n",
    "    \n",
    "    def pop(self):\n",
    "        if self.top == None:\n",
    "            raise Exception('stack is empty')\n",
    "        popped_item = self.top\n",
    "        self.top = self.top.right\n",
    "        return popped_item.data\n",
    "    \n",
    "    def push(self, data):\n",
    "        new_node = Stack.Node(data)\n",
    "        new_node.right = self.top\n",
    "        self.top = new_node\n",
    "    \n",
    "    def peek(self):\n",
    "        if self.top == None:\n",
    "            raise Exception('stack is empty')\n",
    "        return self.top.data\n",
    "    \n",
    "    def is_empty(self):\n",
    "        return self.top == None\n",
    "    \n",
    "    def __repr__(self):\n",
    "        return str(self.top)"
   ]
  },
  {
   "source": [
    "#### Queue"
   ],
   "cell_type": "markdown",
   "metadata": {}
  },
  {
   "cell_type": "code",
   "execution_count": 3,
   "metadata": {},
   "outputs": [],
   "source": [
    "class Queue(object):\n",
    "    \n",
    "    class Node(object):\n",
    "\n",
    "        def __init__(self, data):\n",
    "            self.data = data\n",
    "            self.right = None\n",
    "        \n",
    "        def __repr__(self):\n",
    "            result =  f'{self.data} -> '\n",
    "            if self.right == None:\n",
    "                result += 'None'\n",
    "            else:\n",
    "                result += str(self.right)\n",
    "            return result\n",
    "\n",
    "    def __init__(self):\n",
    "        self.start = None\n",
    "        self.end = None\n",
    "    \n",
    "    def add(self, data):\n",
    "        new_node = Queue.Node(data)\n",
    "        \n",
    "        if self.end != None:\n",
    "            self.end.right = new_node\n",
    "        self.end = new_node\n",
    "        if self.start == None:\n",
    "            self.start = new_node\n",
    "    \n",
    "    def remove(self):\n",
    "        if self.start == None or self.end == None:\n",
    "            raise Exception('queue is empty')\n",
    "        removed_node = self.start\n",
    "        self.start = self.start.right\n",
    "        if self.start == None:\n",
    "            self.end = self.start\n",
    "        return removed_node.data\n",
    "    \n",
    "    def peek(self):\n",
    "        if self.start == None or self.end == None:\n",
    "            raise Exception('queue is empty')\n",
    "        return self.start.data\n",
    "    \n",
    "    def is_empty(self):\n",
    "        return self.start == None\n",
    "    \n",
    "    def __repr__(self):\n",
    "        return str(self.start)"
   ]
  },
  {
   "source": [
    "#### Tree in One. Describe how you could use a single array to implement three stacks."
   ],
   "cell_type": "markdown",
   "metadata": {}
  },
  {
   "cell_type": "code",
   "execution_count": 4,
   "metadata": {},
   "outputs": [],
   "source": [
    "class ThreeInOneStack(object):\n",
    "    def __init__(self, capacity=5):\n",
    "        self.capacity = capacity\n",
    "        self.sizes = [0]*3\n",
    "        self.array = [None]*(capacity*3)\n",
    "    \n",
    "    def push(self, num, data):\n",
    "        if self.sizes[num] == self.capacity:\n",
    "            raise Exception('stack is full')\n",
    "        self.sizes[num] += 1\n",
    "        top_index = self.top_index(num)\n",
    "        self.array[top_index] = data\n",
    "    \n",
    "    def pop(self, num):\n",
    "        if self.sizes[num] <= 0:\n",
    "            raise Exception('stack is empty')\n",
    "        popped_el = self.array[self.top_index(num)]\n",
    "        self.array[self.top_index(num)] = None\n",
    "        self.sizes[num] -= 1\n",
    "        return popped_el\n",
    "    \n",
    "    def peek(self, num):\n",
    "        if self.is_empty(num):\n",
    "            raise Exception('stack is empty')\n",
    "        return self.array[self.top_index(num)]\n",
    "\n",
    "    def is_empty(self, num):\n",
    "        return self.sizes[num] <= 0\n",
    "\n",
    "    def top_index(self, num):\n",
    "        offset = self.capacity * num\n",
    "        return offset + self.sizes[num] - 1"
   ]
  },
  {
   "source": [
    "#### Stack Min. How would you design a stack which, in addition to push and pop, has a function min which returns the minimum element? push, pop, and min should all operate in $O(1)$ time."
   ],
   "cell_type": "markdown",
   "metadata": {}
  },
  {
   "cell_type": "code",
   "execution_count": 5,
   "metadata": {},
   "outputs": [
    {
     "output_type": "execute_result",
     "data": {
      "text/plain": [
       "5"
      ]
     },
     "metadata": {},
     "execution_count": 5
    }
   ],
   "source": [
    "from collections import deque\n",
    "\n",
    "class StackMin(Stack):\n",
    "    def __init__(self):\n",
    "        super().__init__()\n",
    "        self.min_stack = deque()\n",
    "\n",
    "    def push(self, data):\n",
    "        if self.is_empty_min():\n",
    "            self.min_stack.append(data)\n",
    "        if data < self.peek_empty():\n",
    "            self.min_stack.append(data)\n",
    "        super().push(data)\n",
    "    \n",
    "    def pop(self):\n",
    "        try:\n",
    "            popped_el = super().pop()\n",
    "            if popped_el == self.min():\n",
    "                self.min_stack.pop()\n",
    "            return popped_el\n",
    "        except Exception:\n",
    "            raise Exception()\n",
    "\n",
    "    def peek_empty(self):\n",
    "        if not self.is_empty_min():\n",
    "            return self.min_stack[-1]\n",
    "\n",
    "    def min(self):\n",
    "        if not self.is_empty_min():\n",
    "            return self.min_stack[-1]\n",
    "        raise Exception('no min is present')\n",
    "\n",
    "    def is_empty_min(self):\n",
    "        return len(self.min_stack) == 0\n",
    "\n",
    "# Testing\n",
    "stack = StackMin()\n",
    "stack.push(5)\n",
    "stack.push(6)\n",
    "stack.push(3)\n",
    "stack.push(7)\n",
    "stack.pop()\n",
    "stack.pop()\n",
    "stack.min()"
   ]
  },
  {
   "cell_type": "code",
   "execution_count": 6,
   "metadata": {},
   "outputs": [
    {
     "output_type": "execute_result",
     "data": {
      "text/plain": [
       "3"
      ]
     },
     "metadata": {},
     "execution_count": 6
    }
   ],
   "source": [
    "from typing import List\n",
    "\n",
    "class StackCapacity(Stack):\n",
    "\n",
    "    def __init__(self, capacity=3):\n",
    "        super().__init__()\n",
    "        self.cur_els = 0\n",
    "        self.capacity = capacity\n",
    "    \n",
    "    def push(self, data):\n",
    "        if self.is_full():\n",
    "            raise Exception('stack is full')\n",
    "        super().push(data)\n",
    "    \n",
    "    def is_full(self):\n",
    "        return self.capacity == self.cur_els\n",
    "\n",
    "class SetOfStacks(object):\n",
    "\n",
    "    def __init__(self):\n",
    "        self.stacks: List[StackCapacity] = []\n",
    "    \n",
    "    def push(self, data):\n",
    "        last_stack = self.get_top_stack()\n",
    "        if last_stack == None or last_stack.is_full():\n",
    "            new_stack = StackCapacity()\n",
    "            new_stack.push(data)\n",
    "            self.stacks.append(new_stack)\n",
    "        else:\n",
    "            last_stack.push(data)\n",
    "\n",
    "    def pop(self):\n",
    "        last_stack = self.get_top_stack()\n",
    "        if last_stack == None:\n",
    "            raise Exception('stacks array is empty')\n",
    "        \n",
    "        if last_stack.is_empty():\n",
    "            self.stacks.pop()\n",
    "            return self.pop()\n",
    "        else:\n",
    "            return last_stack.pop()\n",
    "\n",
    "    def get_top_stack(self):\n",
    "        if len(self.stacks) == 0:\n",
    "            return None\n",
    "        return self.stacks[-1]\n",
    "\n",
    "# Testing\n",
    "stacks = SetOfStacks()\n",
    "stacks.push(5)\n",
    "stacks.push(4)\n",
    "stacks.push(3)\n",
    "stacks.pop()"
   ]
  },
  {
   "source": [
    "#### Queue via Stacks. Implement a MyQueue class which implements a queue using two stacks"
   ],
   "cell_type": "markdown",
   "metadata": {}
  },
  {
   "cell_type": "code",
   "execution_count": 7,
   "metadata": {},
   "outputs": [
    {
     "output_type": "execute_result",
     "data": {
      "text/plain": [
       "1"
      ]
     },
     "metadata": {},
     "execution_count": 7
    }
   ],
   "source": [
    "class MyQueue(object):\n",
    "    def __init__(self):\n",
    "        self.new_stack = Stack()\n",
    "        self.old_stack = Stack()\n",
    "    \n",
    "    def add(self, data):\n",
    "        self.new_stack.push(data)\n",
    "    \n",
    "    def remove(self):\n",
    "        if self.is_empty():\n",
    "            raise Exception('queue is empty')\n",
    "\n",
    "        if self.old_stack.is_empty():\n",
    "            self.transfer()\n",
    "\n",
    "        return self.old_stack.pop()\n",
    "    \n",
    "    \n",
    "    def peek(self):\n",
    "        if self.is_empty():\n",
    "            raise Exception('queue is empty')\n",
    "    \n",
    "    def transfer(self):\n",
    "        if self.new_stack.is_empty():\n",
    "            raise Exception('new_stack is empty')\n",
    "        \n",
    "        while not self.new_stack.is_empty():\n",
    "            popped_item = self.new_stack.pop()\n",
    "            self.old_stack.push(popped_item)\n",
    "\n",
    "    def is_empty(self):\n",
    "        return self.new_stack.is_empty() and self.old_stack.is_empty()\n",
    "\n",
    "# Testing\n",
    "queue = MyQueue()\n",
    "queue.add(1)\n",
    "queue.add(2)\n",
    "queue.add(3)\n",
    "queue.add(4)\n",
    "queue.add(5)\n",
    "queue.remove()"
   ]
  },
  {
   "source": [
    "#### Sort Stack. Write a program to sort a stack such that the smallest items are on the top. You can use an additional temporary stack, but you may not copy the elements into any other data structure (such as an array). The stack supports the following operations: push, pop, peek, and is_empty."
   ],
   "cell_type": "markdown",
   "metadata": {}
  },
  {
   "cell_type": "code",
   "execution_count": 15,
   "metadata": {},
   "outputs": [
    {
     "output_type": "stream",
     "name": "stdout",
     "text": [
      "3 3 4 4 6 7 7 7 8 9 "
     ]
    }
   ],
   "source": [
    "def sort_stack(stack: Stack):\n",
    "    desc_stack = Stack()\n",
    "\n",
    "    while not stack.is_empty():\n",
    "        temp = stack.pop()\n",
    "        while not desc_stack.is_empty() and desc_stack.peek() > temp:\n",
    "            stack.push(desc_stack.pop())\n",
    "        desc_stack.push(temp)\n",
    "    \n",
    "    while not desc_stack.is_empty():\n",
    "        stack.push(desc_stack.pop())\n",
    "\n",
    "# Testing\n",
    "import random\n",
    "stack = Stack()\n",
    "for _ in range(10):\n",
    "    stack.push(random.randint(1, 10))\n",
    "sort_stack(stack)\n",
    "while not stack.is_empty():\n",
    "    print(stack.pop(), end=' ')"
   ]
  },
  {
   "source": [
    "#### Animal Shelter. An animal shelter, which holds only dogs and cats, operates on strictly 'first in, first out' basis. People must adopt either the 'oldest' (based on arrival time) of all the animals at the shelter, or they can select whether they would prefer a dog or cat (and will receive the oldest animal of that type). They cannot select which specific animal they would like. Create the data structures to maintain this system and implement operations such as enqueue, dequeue_any, dequeue_dog, and dequeue_cat."
   ],
   "cell_type": "markdown",
   "metadata": {}
  },
  {
   "cell_type": "code",
   "execution_count": 40,
   "metadata": {},
   "outputs": [],
   "source": [
    "class Animal(object):\n",
    "\n",
    "    def __init__(self, order = float('inf'), name='Animal'):\n",
    "        self._order = order\n",
    "        self.name = name\n",
    "    \n",
    "    def __lt__(self, other_animal):\n",
    "        return self.order < other_animal.order\n",
    "\n",
    "    def __le__(self, other_animal):\n",
    "        return self.order < other_animal.order\n",
    "    \n",
    "    def __eq__(self, other_animal):\n",
    "        return self.order == other_animal.order\n",
    "\n",
    "    @property\n",
    "    def order(self):\n",
    "        return self._order\n",
    "    \n",
    "    @order.setter\n",
    "    def order(self, value):\n",
    "        self._order = value\n",
    "\n",
    "class Cat(Animal):\n",
    "\n",
    "    def __init__(self, order=float('inf'), name='Cat'):\n",
    "        super().__init__(order, name)\n",
    "    \n",
    "    def __repr__(self):\n",
    "        return f'Type: {Cat}, Name: {self.name}'\n",
    "\n",
    "class Dog(Animal):\n",
    "\n",
    "    def __init__(self, order=float('inf'), name='Dog'):\n",
    "        super().__init__(order, name)\n",
    "    \n",
    "    def __repr__(self):\n",
    "        return f'Type: {Cat}, Name: {self.name}'\n",
    "\n",
    "class AnimalQueue(object):\n",
    "\n",
    "    def __init__(self):\n",
    "        self.cur_order = 0\n",
    "        self.cats = Queue()\n",
    "        self.dogs = Queue()\n",
    "    \n",
    "    def enqueue(self, animal: Animal):\n",
    "        if isinstance(animal, Cat):\n",
    "            self.cats.add(animal)\n",
    "        elif isinstance(animal, Dog):\n",
    "            self.dogs.add(animal)\n",
    "        else:\n",
    "            raise Exception('invalid animal type is provided')\n",
    "    \n",
    "    def dequeue_dogs(self):\n",
    "        return self.dogs.remove()\n",
    "    \n",
    "    def dequeue_cats(self):\n",
    "        return self.cats.remove()\n",
    "    \n",
    "    def dequeue_any(self):\n",
    "        cat = self.cats.peek()\n",
    "        dog = self.dogs.peek()\n",
    "        if cat < dog:\n",
    "            return self.cats.pop()\n",
    "        else:\n",
    "            return self.dogs.pop()"
   ]
  }
 ]
}