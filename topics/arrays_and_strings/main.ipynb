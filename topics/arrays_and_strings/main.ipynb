{
 "metadata": {
  "language_info": {
   "codemirror_mode": {
    "name": "ipython",
    "version": 3
   },
   "file_extension": ".py",
   "mimetype": "text/x-python",
   "name": "python",
   "nbconvert_exporter": "python",
   "pygments_lexer": "ipython3",
   "version": "3.8.5"
  },
  "orig_nbformat": 2,
  "kernelspec": {
   "name": "python38532bit84ec8efe27784a64a26d6c626258e827",
   "display_name": "Python 3.8.5 32-bit ('PYTHON': venv)"
  },
  "metadata": {
   "interpreter": {
    "hash": "7bcf4b84a5571a91a23c3c7241e2fd5fe971678bdb56a188852a26ab7a4284c3"
   }
  }
 },
 "nbformat": 4,
 "nbformat_minor": 2,
 "cells": [
  {
   "source": [
    "# Arrays and Strings"
   ],
   "cell_type": "markdown",
   "metadata": {}
  },
  {
   "source": [
    "#### Is Unique. Implement an algorithm to determine if a string has all unique characters. What is you cannot use additional data structures?"
   ],
   "cell_type": "markdown",
   "metadata": {}
  },
  {
   "cell_type": "code",
   "execution_count": 11,
   "metadata": {},
   "outputs": [
    {
     "output_type": "execute_result",
     "data": {
      "text/plain": [
       "True"
      ]
     },
     "metadata": {},
     "execution_count": 11
    }
   ],
   "source": [
    "def isUnique(string: str) -> bool:\n",
    "    if len(string) > 128:\n",
    "        return False\n",
    "    array = [False for _ in range(128)]\n",
    "    for char in string:\n",
    "        if array[ord(char)]:\n",
    "            return False\n",
    "        else:\n",
    "            array[ord(char)] = True\n",
    "    return True\n",
    "\n",
    "# testing\n",
    "isUnique('palindrome')"
   ]
  },
  {
   "source": [
    "#### Check Permutation. Given two strings, write a method to decide if one is a permutation of the other."
   ],
   "cell_type": "markdown",
   "metadata": {}
  },
  {
   "cell_type": "code",
   "execution_count": 14,
   "metadata": {},
   "outputs": [
    {
     "output_type": "execute_result",
     "data": {
      "text/plain": [
       "False"
      ]
     },
     "metadata": {},
     "execution_count": 14
    }
   ],
   "source": [
    "def check_permutation(str1, str2) -> bool:\n",
    "    if len(str1) != len(str2):\n",
    "        return False\n",
    "    \n",
    "    array = [0 for _ in range(128)]\n",
    "    for char in str1:\n",
    "        array[ord(char)] += 1\n",
    "    \n",
    "    for char in str2:\n",
    "        array[ord(char)] -= 1\n",
    "        if array[ord(char)] < 0:\n",
    "            return False\n",
    "    return True\n",
    "\n",
    "# testing\n",
    "check_permutation('abcc', 'cbad')"
   ]
  },
  {
   "source": [
    "#### URLify. Write a method to replace all spaces in a string with '%20'. You may assume that the string has sufficient space at the end to hold the additional characters, and that you are given the 'true' length of the string. (Note: If implementing in Java, please use a character array so that you can perform this operation in place.)"
   ],
   "cell_type": "markdown",
   "metadata": {}
  },
  {
   "cell_type": "code",
   "execution_count": 45,
   "metadata": {},
   "outputs": [
    {
     "output_type": "execute_result",
     "data": {
      "text/plain": [
       "'Mr%20John%20Kennedy  '"
      ]
     },
     "metadata": {},
     "execution_count": 45
    }
   ],
   "source": [
    "def urlify(str_arr, true_length):\n",
    "    c_space = 0\n",
    "    for char in str_arr[:true_length]:\n",
    "        if char == ' ':\n",
    "            c_space += 1\n",
    "    index = true_length + (c_space * 2)\n",
    "    for i in range(true_length -1, -1, -1):\n",
    "        if str_arr[i] != ' ':\n",
    "            str_arr[index - 1] = str_arr[i]\n",
    "            index -= 1\n",
    "        else:\n",
    "            str_arr[index - 1] = '0'\n",
    "            str_arr[index - 2] = '2'\n",
    "            str_arr[index - 3] = '%'\n",
    "            index -= 3\n",
    "    return ''.join(str_arr)\n",
    "\n",
    "# Testing\n",
    "string = 'Mr John Kennedy      '\n",
    "urlify(list(string), 15)"
   ]
  },
  {
   "source": [
    "#### Palindrome Permutation. Given a string, write a function to check if it is a permutation of a palindrome. A palindrome is a word or phrase that is the same forwards and backwards. A permutation is a rearrangement of letters. The palindrome does not need to be limited to just dicionary words."
   ],
   "cell_type": "markdown",
   "metadata": {}
  },
  {
   "cell_type": "code",
   "execution_count": 52,
   "metadata": {},
   "outputs": [
    {
     "output_type": "execute_result",
     "data": {
      "text/plain": [
       "True"
      ]
     },
     "metadata": {},
     "execution_count": 52
    }
   ],
   "source": [
    "from collections import defaultdict\n",
    "def palindrome_permutation(string) -> bool:\n",
    "    freqs = defaultdict(int)\n",
    "    for char in string:\n",
    "        if char == ' ':\n",
    "            continue\n",
    "        freqs[char] += 1\n",
    "    \n",
    "    oddFound = False\n",
    "    for (key, value) in freqs.items():\n",
    "        if value % 2 == 1:\n",
    "            if oddFound == True:\n",
    "                return False\n",
    "            oddFound = True\n",
    "    return True\n",
    "\n",
    "# Testing\n",
    "palindrome_permutation('tact coa')"
   ]
  },
  {
   "source": [
    "#### One Away. There are three types of edits that can be performed on strings: insert a character, remove a character, or replace a character. Given two strings, write a function to check if they are one edit(or zero edits) away."
   ],
   "cell_type": "markdown",
   "metadata": {}
  },
  {
   "cell_type": "code",
   "execution_count": 58,
   "metadata": {},
   "outputs": [
    {
     "output_type": "execute_result",
     "data": {
      "text/plain": [
       "False"
      ]
     },
     "metadata": {},
     "execution_count": 58
    }
   ],
   "source": [
    "def one_away(str1, str2) -> bool:\n",
    "    if abs(len(str1) - len(str2)) > 1:\n",
    "        return False\n",
    "    if len(str1) == len(str2):\n",
    "        return one_replace_away(str1, str2)\n",
    "    if len(str1) > len(str2):\n",
    "        return one_insert_away(str1, str2)\n",
    "    if len(str2) > len(str1):\n",
    "        return one_insert_away(str1, str2)\n",
    "\n",
    "def one_replace_away(str1, str2):\n",
    "    oneWrong = False\n",
    "    for i in range(len(str1)):\n",
    "        if str1[i] != str2[i]:\n",
    "            if oneWrong == True:\n",
    "                return False\n",
    "            oneWrong = True\n",
    "    return True\n",
    "\n",
    "def one_insert_away(str1, str2):\n",
    "    index1 = index2 = 0\n",
    "    while index1 < len(str1) and index2 < len(str2):\n",
    "        if str1[index1] != str2[index2]:\n",
    "            if index1 != index2:\n",
    "                return False\n",
    "            index1 += 1\n",
    "        else:\n",
    "            index1 += 1\n",
    "            index2 += 1\n",
    "    return True\n",
    "\n",
    "# Testing\n",
    "one_away('pales', 'bake')"
   ]
  },
  {
   "source": [
    "#### String Compression. Implement a method to perform basic string compression using the counts of repeated characters. For example, the string aabcccccaaa would become a2b1c5a3. If the 'compressed' string would not become smaller than the original string, your method should return the original string. You can assume the string has only uppercase and lowercase letters (a-z)"
   ],
   "cell_type": "markdown",
   "metadata": {}
  },
  {
   "cell_type": "code",
   "execution_count": 12,
   "metadata": {},
   "outputs": [
    {
     "output_type": "stream",
     "name": "stdout",
     "text": [
      "['a', '2', 'b', '1', 'c', '5', 'a', '3']\n"
     ]
    },
    {
     "output_type": "execute_result",
     "data": {
      "text/plain": [
       "'aabcccccaaa'"
      ]
     },
     "metadata": {},
     "execution_count": 12
    }
   ],
   "source": [
    "def string_compression(string):\n",
    "    str_arr = []\n",
    "    i = 0\n",
    "    compression_count = 0\n",
    "    while i < len(string):\n",
    "        compression_count += 1\n",
    "        if i + 1 >= len(string) or string[i + 1] != string[i]:\n",
    "            str_arr.extend([string[i], str(compression_count)])\n",
    "            compression_count = 0\n",
    "        i += 1\n",
    "    print(str_arr)\n",
    "    return ''.join(str_arr) if len(str_arr) > len(string) else string\n",
    "\n",
    "# Testing\n",
    "string_compression('aabcccccaaa')"
   ]
  },
  {
   "source": [
    "#### Rotate Matrix. Given an image represented by an N*N matrix, where each pixel in the image is 4 bytes, write a method to rotate the image by 90degs. Can you do this in place?"
   ],
   "cell_type": "markdown",
   "metadata": {}
  },
  {
   "cell_type": "code",
   "execution_count": 4,
   "metadata": {},
   "outputs": [
    {
     "output_type": "execute_result",
     "data": {
      "text/plain": [
       "[[7, 4, 1], [8, 5, 2], [9, 6, 3]]"
      ]
     },
     "metadata": {},
     "execution_count": 4
    }
   ],
   "source": [
    "def rotate_matrix(matrix):\n",
    "    if len(matrix) != len(matrix[0]):\n",
    "        raise Exception('matrix should be square')\n",
    "    \n",
    "    n = len(matrix)\n",
    "\n",
    "    for layer in range(n//2):\n",
    "        first = layer\n",
    "        last = n - 1 - layer\n",
    "        for i in range(first, last):\n",
    "            offset = i - first\n",
    "            \n",
    "            # save the top\n",
    "            top = matrix[first][i]\n",
    "\n",
    "            # left -> top\n",
    "            matrix[first][i] = matrix[last-offset][first]\n",
    "\n",
    "            # bottom -> left\n",
    "            matrix[last-offset][first] = matrix[last][last-offset]\n",
    "\n",
    "            # right -> bottom\n",
    "            matrix[last][last-offset] = matrix[i][last]\n",
    "\n",
    "            # top -> right\n",
    "            matrix[i][last] = top\n",
    "\n",
    "    return matrix\n",
    "\n",
    "# Testing\n",
    "matrix = [\n",
    "    [1, 2, 3],\n",
    "    [4, 5, 6],\n",
    "    [7, 8, 9]\n",
    "]\n",
    "rotate_matrix(matrix)"
   ]
  },
  {
   "source": [
    "#### Zero Matrix. Write an algorithm such that if an element in an M*N matrix is 0, its entire row and column are set to 0."
   ],
   "cell_type": "markdown",
   "metadata": {}
  },
  {
   "cell_type": "code",
   "execution_count": 6,
   "metadata": {},
   "outputs": [
    {
     "output_type": "execute_result",
     "data": {
      "text/plain": [
       "[[0, 0, 0, 0], [2, 0, 0, 0], [0, 0, 0, 0], [0, 0, 0, 0]]"
      ]
     },
     "metadata": {},
     "execution_count": 6
    }
   ],
   "source": [
    "def zero_matrix(matrix, size):\n",
    "    row_zero = False\n",
    "    column_zero = False\n",
    "\n",
    "    for i in range(size):\n",
    "        if matrix[0][i] == 0:\n",
    "            row_zero = True\n",
    "\n",
    "    for i in range(size):\n",
    "        if matrix[i][0] == 0:\n",
    "            column_zero = True\n",
    "\n",
    "    for r_i in range(1, size):\n",
    "        for c_i in range(1, size):\n",
    "            if matrix[r_i][c_i] == 0:\n",
    "                matrix[0][c_i] = 0\n",
    "                matrix[r_i][0] = 0\n",
    "    \n",
    "    for i in range(size):\n",
    "        if matrix[0][i] == 0:\n",
    "            nullify_column(matrix, i)\n",
    "    for i in range(size):\n",
    "        if matrix[i][0] == 0:\n",
    "            nullify_row(matrix, i)\n",
    "    \n",
    "    if row_zero:\n",
    "        nullify_row(matrix, 0)\n",
    "    if column_zero:\n",
    "        nullify_column(matrix, 0)\n",
    "    \n",
    "    return matrix\n",
    "\n",
    "def nullify_row(matrix, index):\n",
    "    for c_i in range(len(matrix)):\n",
    "        matrix[index][c_i] = 0\n",
    "\n",
    "def nullify_column(matrix, index):\n",
    "    for r_i in range(len(matrix)):\n",
    "        matrix[r_i][index] = 0\n",
    "\n",
    "# Testing\n",
    "matrix = [\n",
    "    [2, 0, 2, 1],\n",
    "    [2, 4, 9, 7],\n",
    "    [4, 8, 2, 0],\n",
    "    [3, 4, 0, 5]\n",
    "]\n",
    "zero_matrix(matrix, 4)"
   ]
  },
  {
   "source": [
    "#### String Rotation. Assume you have a method is_substring which checks if one word is a substring of another. Given two strings, s1 and s2, write code to check if s2 is a rotation of s1 using only one call to is_substring (e.g., 'waterbottle' is a rotation of 'erbottlsewat')"
   ],
   "cell_type": "markdown",
   "metadata": {}
  },
  {
   "cell_type": "code",
   "execution_count": 11,
   "metadata": {},
   "outputs": [
    {
     "output_type": "execute_result",
     "data": {
      "text/plain": [
       "True"
      ]
     },
     "metadata": {},
     "execution_count": 11
    }
   ],
   "source": [
    "def string_rotation(str1, str2):\n",
    "    if len(str1) == len(str2):\n",
    "        d_str1 = str1 + str1\n",
    "        return is_substring(d_str1, str2)\n",
    "\n",
    "    return False\n",
    "\n",
    "def is_substring(str1, str2):\n",
    "    return str2 in str1\n",
    "\n",
    "# Testing\n",
    "string_rotation('waterbottle', 'erbottlewat')"
   ]
  },
  {
   "cell_type": "code",
   "execution_count": null,
   "metadata": {},
   "outputs": [],
   "source": []
  }
 ]
}